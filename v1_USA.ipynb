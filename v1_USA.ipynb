{
 "cells": [
  {
   "cell_type": "code",
   "execution_count": null,
   "metadata": {},
   "outputs": [],
   "source": [
    "import torch\n",
    "from IPython.display import Image, clear_output  # to display images\\n\n",
    "from IPython.core.magic import register_line_cell_magic\n",
    "\n",
    "print('Setup complete. Using torch %s %s' % (torch.__version__, torch.cuda.get_device_properties(0) if torch.cuda.is_available() else 'CPU'))\n",
    "torch.cuda.empty_cache()"
   ]
  },
  {
   "cell_type": "code",
   "execution_count": null,
   "metadata": {},
   "outputs": [],
   "source": [
    "# !pip install cython; pip install 'git+https://github.com/cocodataset/cocoapi.git#subdirectory=PythonAPI'\n",
    "# pip install -v -e ."
   ]
  },
  {
   "cell_type": "code",
   "execution_count": null,
   "metadata": {},
   "outputs": [],
   "source": [
    "# expect folder with images and xmls\n",
    "# %cd my_dataset\n",
    "# %mkdir VOCdevkit/VOC2007\n",
    "# %cp images/ VOC2007/JPEGImages/\n",
    "# %cp annotations/xmls/ VOC2007/Annotations/\n",
    "# !python voc_txt_usa.py \"VOCdevkit/VOC2007\"\n",
    "# !ln -s ./VOCdevkit/VOC2007 ~YOLOX/datasets/VOCdevkit/VOC2007"
   ]
  },
  {
   "cell_type": "code",
   "execution_count": null,
   "metadata": {},
   "outputs": [],
   "source": [
    "ln -s ~YOLOX//pothole_dataset/all/VOCdevkit/VOC2007 ~/YOLOX/datasets/VOCdevkit/VOC2007"
   ]
  },
  {
   "cell_type": "code",
   "execution_count": null,
   "metadata": {},
   "outputs": [],
   "source": [
    "# %cd ~/YOLOX\n",
    "# %rm -rf datasets/*\n",
    "\n",
    "# !ln -s ~/YOLOX/Pothole-US/train/ ./datasets/VOCdevkit"
   ]
  },
  {
   "cell_type": "code",
   "execution_count": null,
   "metadata": {},
   "outputs": [],
   "source": [
    "# %cd ~/YOLOX\n",
    "# %mkdir ./datasets/VOCdevkit/VOC2007\n",
    "# %mv datasets/VOCdevkit/images/ datasets/VOCdevkit/VOC2007/JPEGImages/\n",
    "# %mv datasets/VOCdevkit/annotations/xmls/ datasets/VOCdevkit/VOC2007/Annotations/\n",
    "\n",
    "# !python voc_txt_usa.py \"datasets/VOCdevkit/VOC2007\""
   ]
  },
  {
   "cell_type": "code",
   "execution_count": null,
   "metadata": {},
   "outputs": [],
   "source": [
    "from IPython.core.magic import register_line_cell_magic\n",
    "\n",
    "@register_line_cell_magic\n",
    "def writetemplate(line, cell):\n",
    "    with open(line, 'w+') as f:\n",
    "        f.write(cell.format(**globals()))"
   ]
  },
  {
   "cell_type": "code",
   "execution_count": null,
   "metadata": {},
   "outputs": [],
   "source": [
    "%%writetemplate yolox/data/datasets/voc_classes.py\n",
    "\n",
    "VOC_CLASSES = (\n",
    "    \"Crack\",\n",
    "    \"Pothole\",\n",
    ")"
   ]
  },
  {
   "cell_type": "code",
   "execution_count": null,
   "metadata": {},
   "outputs": [],
   "source": [
    "%%writetemplate yolox/data/datasets/coco_classes.py\n",
    "\n",
    "COCO_CLASSES = (\n",
    "    \"Crack\",\n",
    "    \"Pothole\",\n",
    ")"
   ]
  },
  {
   "cell_type": "code",
   "execution_count": null,
   "metadata": {},
   "outputs": [],
   "source": [
    "NUM_CLASSES = 2\n",
    "!sed -i -e 's/self.num_classes = 20/self.num_classes = {NUM_CLASSES}/g' \"exps/example/yolox_voc/yolox_voc_s.py\""
   ]
  },
  {
   "cell_type": "code",
   "execution_count": null,
   "metadata": {},
   "outputs": [],
   "source": [
    "import wandb"
   ]
  },
  {
   "cell_type": "code",
   "execution_count": null,
   "metadata": {},
   "outputs": [],
   "source": [
    "!wandb login"
   ]
  },
  {
   "cell_type": "code",
   "execution_count": null,
   "metadata": {},
   "outputs": [],
   "source": []
  },
  {
   "cell_type": "code",
   "execution_count": null,
   "metadata": {},
   "outputs": [],
   "source": [
    "print(\"train\")\n",
    "!python tools/train.py -f exps/example/yolox_voc/yolox_voc_s.py -b 32 --fp16 -o -c yolox_s.pth -l tensorboard"
   ]
  },
  {
   "cell_type": "code",
   "execution_count": null,
   "metadata": {},
   "outputs": [],
   "source": [
    "print(\"eval\")\n",
    "MODEL_PATH = \"./YOLOX_outputs/yolox_voc_s/best_ckpt.pth\"\n",
    "!python tools/eval.py -n  yolox-s -c {MODEL_PATH} -b 32 --conf 0.001 -f exps/example/yolox_voc/yolox_voc_s.py"
   ]
  },
  {
   "cell_type": "code",
   "execution_count": null,
   "metadata": {},
   "outputs": [],
   "source": [
    "print(\"demo\")\n",
    "!python tools/demo.py image -f ./exps/example/yolox_voc/yolox_voc_s.py -c ./YOLOX_outputs/yolox_voc_s_V3_350e_no_aug_50/best_ckpt.pth --path ./datasets/VOCdevkit/VOC2007/ValidCopy --conf 0.25 --nms 0.45 --tsize 640 --save_result --device cpu"
   ]
  }
 ],
 "metadata": {
  "kernelspec": {
   "display_name": "Python 3.8.13 ('yolox')",
   "language": "python",
   "name": "python3"
  },
  "language_info": {
   "codemirror_mode": {
    "name": "ipython",
    "version": 3
   },
   "file_extension": ".py",
   "mimetype": "text/x-python",
   "name": "python",
   "nbconvert_exporter": "python",
   "pygments_lexer": "ipython3",
   "version": "3.8.13 (default, Mar 28 2022, 11:38:47) \n[GCC 7.5.0]"
  },
  "orig_nbformat": 4,
  "vscode": {
   "interpreter": {
    "hash": "c28ecbd8adb896233574be1aeff8e97f8dece6d9471d8f0a103093bdd03ba601"
   }
  }
 },
 "nbformat": 4,
 "nbformat_minor": 2
}
