{
 "cells": [
  {
   "cell_type": "code",
   "execution_count": null,
   "metadata": {},
   "outputs": [],
   "source": [
    "import torch\n",
    "from IPython.display import Image, clear_output  # to display images\\n\n",
    "from IPython.core.magic import register_line_cell_magic\n",
    "\n",
    "print('Setup complete. Using torch %s %s' % (torch.__version__, torch.cuda.get_device_properties(0) if torch.cuda.is_available() else 'CPU'))\n",
    "torch.cuda.empty_cache()"
   ]
  },
  {
   "cell_type": "code",
   "execution_count": 7,
   "metadata": {},
   "outputs": [],
   "source": [
    "# !pip3 install cython; pip3 install 'git+https://github.com/cocodataset/cocoapi.git#subdirectory=PythonAPI'"
   ]
  },
  {
   "cell_type": "code",
   "execution_count": null,
   "metadata": {},
   "outputs": [],
   "source": [
    "%cd ~/YOLOX\n",
    "# !pip -q install roboflow\n",
    "from roboflow import Roboflow\n",
    "rf = Roboflow(api_key=\"r7Q4O1nDNtn8DK0ELj7e\")\n",
    "project = rf.workspace(\"chen-dadon-5ho55\").project(\"pothole-d3omk\")\n",
    "dataset = project.version(7).download(\"voc\")"
   ]
  },
  {
   "cell_type": "code",
   "execution_count": null,
   "metadata": {},
   "outputs": [],
   "source": [
    "%cd ~/YOLOX\n",
    "!unlink ./datasets/VOCdevkit\n",
    "!ln -s {dataset.location}/train/ ./datasets/VOCdevkit"
   ]
  },
  {
   "cell_type": "code",
   "execution_count": null,
   "metadata": {},
   "outputs": [],
   "source": [
    "%cd ~/YOLOX\n",
    "%mkdir \"datasets/VOCdevkit/VOC2007\"\n",
    "!python3 voc_txt.py \"datasets/VOCdevkit/\"\n",
    "%mkdir \"datasets/VOCdevkit/VOC2012\"\n",
    "!cp -r \"datasets/VOCdevkit/VOC2007/.\" \"datasets/VOCdevkit/VOC2012\""
   ]
  },
  {
   "cell_type": "code",
   "execution_count": 3,
   "metadata": {},
   "outputs": [],
   "source": [
    "# from IPython.core.magic import register_line_cell_magic\n",
    "\n",
    "# @register_line_cell_magic\n",
    "# def writetemplate(line, cell):\n",
    "#     with open(line, 'w+') as f:\n",
    "#         f.write(cell.format(**globals()))"
   ]
  },
  {
   "cell_type": "code",
   "execution_count": 4,
   "metadata": {},
   "outputs": [],
   "source": [
    "# %%writetemplate yolox/data/datasets/voc_classes.py\n",
    "\n",
    "# VOC_CLASSES = (\n",
    "#   \"pothole\"\n",
    "# )"
   ]
  },
  {
   "cell_type": "code",
   "execution_count": 5,
   "metadata": {},
   "outputs": [],
   "source": [
    "# %%writetemplate yolox/data/datasets/coco_classes.py\n",
    "\n",
    "# COCO_CLASSES = (\n",
    "#   \"pothole\"\n",
    "# )"
   ]
  },
  {
   "cell_type": "code",
   "execution_count": 6,
   "metadata": {},
   "outputs": [],
   "source": [
    "# NUM_CLASSES = 1\n",
    "# !sed -i -e 's/self.num_classes = 20/self.num_classes = {NUM_CLASSES}/g' \"exps/example/yolox_voc/yolox_voc_s.py\""
   ]
  },
  {
   "cell_type": "code",
   "execution_count": null,
   "metadata": {},
   "outputs": [],
   "source": [
    "!python tools/train.py -f exps/example/yolox_voc/yolox_voc_s.py -b 32 --fp16 -o -c yolox_s.pth -l tensorboard"
   ]
  },
  {
   "cell_type": "code",
   "execution_count": null,
   "metadata": {},
   "outputs": [],
   "source": [
    "MODEL_PATH = \"./YOLOX_outputs/yolox_voc_s/best_ckpt.pth\"\n",
    "!python tools/eval.py -n  yolox-s -c {MODEL_PATH} -b 32 --conf 0.001 -f exps/example/yolox_voc/yolox_voc_s.py"
   ]
  },
  {
   "cell_type": "code",
   "execution_count": null,
   "metadata": {},
   "outputs": [],
   "source": [
    "TEST_IMAGE_PATH = \"/content/valid/BloodImage_00057_jpg.rf.1ee93e9ec4d76cfaddaa7df70456c376.jpg\"\n",
    "!python tools/demo.py image -f ./exps/example/yolox_voc/yolox_voc_s.py -c ./YOLOX_outputs/yolox_voc_s/best_ckpt.pth --path ./Pothole-7/test --conf 0.25 --nms 0.45 --tsize 640 --save_result --device cpu\n",
    "\n",
    "# from PIL import Image\n",
    "# OUTPUT_IMAGE_PATH = \"/content/YOLOX/YOLOX_outputs/yolox_voc_s/vis_res/2021_08_01_19_51_59/BloodImage_00057_jpg.rf.1ee93e9ec4d76cfaddaa7df70456c376.jpg\" \n",
    "# Image.open(OUTPUT_IMAGE_PATH)"
   ]
  }
 ],
 "metadata": {
  "kernelspec": {
   "display_name": "Python 3.8.13 ('yolox')",
   "language": "python",
   "name": "python3"
  },
  "language_info": {
   "codemirror_mode": {
    "name": "ipython",
    "version": 3
   },
   "file_extension": ".py",
   "mimetype": "text/x-python",
   "name": "python",
   "nbconvert_exporter": "python",
   "pygments_lexer": "ipython3",
   "version": "3.8.13 (default, Mar 28 2022, 11:38:47) \n[GCC 7.5.0]"
  },
  "orig_nbformat": 4,
  "vscode": {
   "interpreter": {
    "hash": "c28ecbd8adb896233574be1aeff8e97f8dece6d9471d8f0a103093bdd03ba601"
   }
  }
 },
 "nbformat": 4,
 "nbformat_minor": 2
}
